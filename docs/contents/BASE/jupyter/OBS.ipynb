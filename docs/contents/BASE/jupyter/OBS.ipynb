{
 "cells": [
  {
   "cell_type": "markdown",
   "metadata": {},
   "source": [
    "# OBS代码实战"
   ]
  },
  {
   "cell_type": "code",
   "execution_count": null,
   "metadata": {},
   "outputs": [],
   "source": [
    "import numpy as np"
   ]
  },
  {
   "cell_type": "code",
   "execution_count": 2,
   "metadata": {},
   "outputs": [
    {
     "data": {
      "text/plain": [
       "array([[25],\n",
       "       [28]])"
      ]
     },
     "execution_count": 2,
     "metadata": {},
     "output_type": "execute_result"
    }
   ],
   "source": [
    "X = np.array([[2, 4, 5], [6, 8, 2]])\n",
    "W = np.array([[1], [2], [3]])\n",
    "Y = X @ W\n",
    "Y"
   ]
  },
  {
   "cell_type": "code",
   "execution_count": 3,
   "metadata": {},
   "outputs": [
    {
     "data": {
      "text/plain": [
       "1"
      ]
     },
     "execution_count": 3,
     "metadata": {},
     "output_type": "execute_result"
    }
   ],
   "source": [
    "# 定义剪枝的q\n",
    "w1 = W[0,0]\n",
    "w1"
   ]
  },
  {
   "cell_type": "code",
   "execution_count": 5,
   "metadata": {},
   "outputs": [
    {
     "data": {
      "text/plain": [
       "array([[40, 56, 22],\n",
       "       [56, 80, 36],\n",
       "       [22, 36, 29]])"
      ]
     },
     "execution_count": 5,
     "metadata": {},
     "output_type": "execute_result"
    }
   ],
   "source": [
    "# 计算H\n",
    "H = X.T @ X\n",
    "H"
   ]
  },
  {
   "cell_type": "code",
   "execution_count": 11,
   "metadata": {},
   "outputs": [
    {
     "data": {
      "text/plain": [
       "array([[ 580498.88133688, -471655.32262675,  145124.69241472],\n",
       "       [-471655.32262675,  383219.96295623, -117913.84312834],\n",
       "       [ 145124.69241472, -117913.84312834,   36281.2442488 ]])"
      ]
     },
     "execution_count": 11,
     "metadata": {},
     "output_type": "execute_result"
    }
   ],
   "source": [
    "# 计算H的逆\n",
    "invH = np.linalg.inv(H + np.eye(len(H)) * 1e-6) # 添加一个数保证数值稳定\n",
    "invH"
   ]
  },
  {
   "cell_type": "code",
   "execution_count": 13,
   "metadata": {},
   "outputs": [
    {
     "data": {
      "text/plain": [
       "array([[ 1.        ],\n",
       "       [-0.81249997],\n",
       "       [ 0.24999995]])"
      ]
     },
     "execution_count": 13,
     "metadata": {},
     "output_type": "execute_result"
    }
   ],
   "source": [
    "e = np.zeros_like(W)\n",
    "e[0, 0] = 1\n",
    "deltaW = w1 / invH[0, 0] * invH @ e\n",
    "deltaW"
   ]
  },
  {
   "cell_type": "code",
   "execution_count": 15,
   "metadata": {},
   "outputs": [
    {
     "name": "stdout",
     "output_type": "stream",
     "text": [
      "剪枝前：[[25], [28]]\n",
      "剪枝后：[[25.000000113281235], [27.999999841796885]]\n"
     ]
    }
   ],
   "source": [
    "# 对比剪枝前后\n",
    "print(f\"剪枝前：{(X @ W).tolist()}\")\n",
    "print(f\"剪枝后：{(X @ (W-deltaW)).tolist()}\")"
   ]
  },
  {
   "cell_type": "markdown",
   "metadata": {},
   "source": [
    "###  结论：OBS这种方法可以近似获得剪枝前的结果，该方法通过减掉某个权重，然后调整其他的权重值来补偿。"
   ]
  },
  {
   "cell_type": "markdown",
   "metadata": {},
   "source": []
  }
 ],
 "metadata": {
  "kernelspec": {
   "display_name": "py39",
   "language": "python",
   "name": "python3"
  },
  "language_info": {
   "codemirror_mode": {
    "name": "ipython",
    "version": 3
   },
   "file_extension": ".py",
   "mimetype": "text/x-python",
   "name": "python",
   "nbconvert_exporter": "python",
   "pygments_lexer": "ipython3",
   "version": "3.9.15"
  }
 },
 "nbformat": 4,
 "nbformat_minor": 2
}
